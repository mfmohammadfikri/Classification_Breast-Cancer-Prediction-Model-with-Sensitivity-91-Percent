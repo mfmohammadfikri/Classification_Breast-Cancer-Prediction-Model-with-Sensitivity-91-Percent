{
 "cells": [
  {
   "cell_type": "markdown",
   "metadata": {},
   "source": [
    "# Breast Cancer Prediction"
   ]
  },
  {
   "cell_type": "markdown",
   "metadata": {},
   "source": [
    "## Dataset Source"
   ]
  },
  {
   "cell_type": "markdown",
   "metadata": {},
   "source": [
    "Miguel Patrício(miguelpatricio '@' gmail.com), José Pereira (jafcpereira '@' gmail.com), Joana Crisóstomo (joanacrisostomo '@' hotmail.com), Paulo Matafome (paulomatafome '@' gmail.com), Raquel Seiça (rmfseica '@' gmail.com), Francisco Caramelo (fcaramelo '@' fmed.uc.pt), all from the Faculty of Medicine of the University of Coimbra and also Manuel Gomes (manuelmgomes '@' gmail.com) from the University Hospital Centre of Coimbra."
   ]
  },
  {
   "cell_type": "markdown",
   "metadata": {},
   "source": [
    "## Data Set Information:"
   ]
  },
  {
   "cell_type": "markdown",
   "metadata": {},
   "source": [
    "There are 10 predictors, all quantitative, and a binary dependent variable, indicating the presence or absence of breast cancer.\n",
    "The predictors are anthropometric data and parameters which can be gathered in routine blood analysis.\n",
    "Prediction models based on these predictors, if accurate, can potentially be used as a biomarker of breast cancer."
   ]
  },
  {
   "cell_type": "markdown",
   "metadata": {},
   "source": [
    "## Attribute Information:"
   ]
  },
  {
   "cell_type": "markdown",
   "metadata": {},
   "source": [
    "Quantitative Attributes:\n",
    "- Age (years)\n",
    "- BMI (kg/m2)\n",
    "- Glucose (mg/dL)\n",
    "- Insulin (µU/mL)\n",
    "- HOMA\n",
    "- Leptin (ng/mL)\n",
    "- Adiponectin (µg/mL)\n",
    "- Resistin (ng/mL)\n",
    "- MCP-1(pg/dL)\n",
    "\n",
    "Labels:\n",
    "- 1=Healthy controls\n",
    "- 2=Patients\n",
    "\n",
    "Abbreviations\n",
    "- BC: Breast cancer; \n",
    "- BMI: Body mass index; \n",
    "- HOMA: Homeostasis Model Assessment; \n",
    "- MCP-1: Chemokine Monocyte Chemoattractant Protein 1;"
   ]
  },
  {
   "cell_type": "markdown",
   "metadata": {},
   "source": [
    "## Goals\n",
    "The goal of this exploratory study was to develop and assess a prediction model which can potentially\n",
    "be used as a biomarker of breast cancer, based on anthropometric data and parameters which can be gathered in\n",
    "routine blood analysis.\n",
    "\n",
    "Nowadays in a medical test, the big indicators of success are specificity and sensitivity. Every medical test strives to reach 100% in both criteria.\n",
    "\n",
    "Sensitivity/recall:\n",
    "- How good a test is at detecting the positives. A test can cheat and maximize this by always returning “positive”.\n",
    "\n",
    "Specificity:\n",
    "- How good a test is at avoiding false alarms. A test can cheat and maximize this by always returning “negative”."
   ]
  },
  {
   "cell_type": "markdown",
   "metadata": {},
   "source": [
    "# Data Exploration"
   ]
  },
  {
   "cell_type": "markdown",
   "metadata": {},
   "source": [
    "## Load libraries and read the data"
   ]
  },
  {
   "cell_type": "code",
   "execution_count": 1,
   "metadata": {},
   "outputs": [
    {
     "data": {
      "text/html": [
       "        <script type=\"text/javascript\">\n",
       "        window.PlotlyConfig = {MathJaxConfig: 'local'};\n",
       "        if (window.MathJax) {MathJax.Hub.Config({SVG: {font: \"STIX-Web\"}});}\n",
       "        if (typeof require !== 'undefined') {\n",
       "        require.undef(\"plotly\");\n",
       "        requirejs.config({\n",
       "            paths: {\n",
       "                'plotly': ['https://cdn.plot.ly/plotly-latest.min']\n",
       "            }\n",
       "        });\n",
       "        require(['plotly'], function(Plotly) {\n",
       "            window._Plotly = Plotly;\n",
       "        });\n",
       "        }\n",
       "        </script>\n",
       "        "
      ]
     },
     "metadata": {},
     "output_type": "display_data"
    }
   ],
   "source": [
    "#importing the libraries\\\n",
    "import pandas as pd\n",
    "import numpy as np\n",
    "import seaborn as sns\n",
    "import matplotlib.pyplot as plt\n",
    "%matplotlib inline\n",
    "import itertools\n",
    "from itertools import chain\n",
    "from sklearn.feature_selection import RFE\n",
    "from sklearn.decomposition import PCA\n",
    "from sklearn.preprocessing import StandardScaler\n",
    "from sklearn.linear_model import LogisticRegression\n",
    "from sklearn.ensemble import VotingClassifier\n",
    "from sklearn.model_selection import GridSearchCV, cross_val_score, learning_curve, train_test_split\n",
    "from sklearn.metrics import precision_score, recall_score, confusion_matrix, roc_curve, precision_recall_curve, accuracy_score\n",
    "import warnings\n",
    "import plotly.offline as py\n",
    "py.init_notebook_mode(connected=True)\n",
    "import plotly.graph_objs as go\n",
    "import plotly.tools as tls\n",
    "import plotly.figure_factory as ff\n",
    "\n",
    "warnings.filterwarnings('ignore') #ignore warning messages "
   ]
  },
  {
   "cell_type": "code",
   "execution_count": 2,
   "metadata": {},
   "outputs": [],
   "source": [
    "#importing the dataset \n",
    "df = pd.read_csv(\"dataR2.csv\")"
   ]
  },
  {
   "cell_type": "markdown",
   "metadata": {},
   "source": [
    "## Description"
   ]
  },
  {
   "cell_type": "code",
   "execution_count": 3,
   "metadata": {},
   "outputs": [
    {
     "name": "stdout",
     "output_type": "stream",
     "text": [
      "<class 'pandas.core.frame.DataFrame'>\n",
      "RangeIndex: 116 entries, 0 to 115\n",
      "Data columns (total 10 columns):\n",
      " #   Column          Non-Null Count  Dtype  \n",
      "---  ------          --------------  -----  \n",
      " 0   Age             116 non-null    int64  \n",
      " 1   BMI             116 non-null    float64\n",
      " 2   Glucose         116 non-null    int64  \n",
      " 3   Insulin         116 non-null    float64\n",
      " 4   HOMA            116 non-null    float64\n",
      " 5   Leptin          116 non-null    float64\n",
      " 6   Adiponectin     116 non-null    float64\n",
      " 7   Resistin        116 non-null    float64\n",
      " 8   MCP.1           116 non-null    float64\n",
      " 9   Classification  116 non-null    int64  \n",
      "dtypes: float64(7), int64(3)\n",
      "memory usage: 9.2 KB\n"
     ]
    }
   ],
   "source": [
    "df.info()"
   ]
  },
  {
   "cell_type": "markdown",
   "metadata": {},
   "source": [
    "## Data Column Identification"
   ]
  },
  {
   "cell_type": "code",
   "execution_count": 4,
   "metadata": {},
   "outputs": [
    {
     "data": {
      "text/plain": [
       "Index(['Age', 'BMI', 'Glucose', 'Insulin', 'HOMA', 'Leptin', 'Adiponectin',\n",
       "       'Resistin', 'MCP.1', 'Classification'],\n",
       "      dtype='object')"
      ]
     },
     "execution_count": 4,
     "metadata": {},
     "output_type": "execute_result"
    }
   ],
   "source": [
    "df.columns"
   ]
  },
  {
   "cell_type": "markdown",
   "metadata": {},
   "source": [
    "## Data numeric"
   ]
  },
  {
   "cell_type": "code",
   "execution_count": 5,
   "metadata": {},
   "outputs": [
    {
     "data": {
      "text/html": [
       "<div>\n",
       "<style scoped>\n",
       "    .dataframe tbody tr th:only-of-type {\n",
       "        vertical-align: middle;\n",
       "    }\n",
       "\n",
       "    .dataframe tbody tr th {\n",
       "        vertical-align: top;\n",
       "    }\n",
       "\n",
       "    .dataframe thead th {\n",
       "        text-align: right;\n",
       "    }\n",
       "</style>\n",
       "<table border=\"1\" class=\"dataframe\">\n",
       "  <thead>\n",
       "    <tr style=\"text-align: right;\">\n",
       "      <th></th>\n",
       "      <th>Age</th>\n",
       "      <th>BMI</th>\n",
       "      <th>Glucose</th>\n",
       "      <th>Insulin</th>\n",
       "      <th>HOMA</th>\n",
       "      <th>Leptin</th>\n",
       "      <th>Adiponectin</th>\n",
       "      <th>Resistin</th>\n",
       "      <th>MCP.1</th>\n",
       "      <th>Classification</th>\n",
       "    </tr>\n",
       "  </thead>\n",
       "  <tbody>\n",
       "    <tr>\n",
       "      <th>0</th>\n",
       "      <td>48</td>\n",
       "      <td>23.500000</td>\n",
       "      <td>70</td>\n",
       "      <td>2.707</td>\n",
       "      <td>0.467409</td>\n",
       "      <td>8.8071</td>\n",
       "      <td>9.702400</td>\n",
       "      <td>7.99585</td>\n",
       "      <td>417.114</td>\n",
       "      <td>1</td>\n",
       "    </tr>\n",
       "    <tr>\n",
       "      <th>1</th>\n",
       "      <td>83</td>\n",
       "      <td>20.690495</td>\n",
       "      <td>92</td>\n",
       "      <td>3.115</td>\n",
       "      <td>0.706897</td>\n",
       "      <td>8.8438</td>\n",
       "      <td>5.429285</td>\n",
       "      <td>4.06405</td>\n",
       "      <td>468.786</td>\n",
       "      <td>1</td>\n",
       "    </tr>\n",
       "    <tr>\n",
       "      <th>2</th>\n",
       "      <td>82</td>\n",
       "      <td>23.124670</td>\n",
       "      <td>91</td>\n",
       "      <td>4.498</td>\n",
       "      <td>1.009651</td>\n",
       "      <td>17.9393</td>\n",
       "      <td>22.432040</td>\n",
       "      <td>9.27715</td>\n",
       "      <td>554.697</td>\n",
       "      <td>1</td>\n",
       "    </tr>\n",
       "  </tbody>\n",
       "</table>\n",
       "</div>"
      ],
      "text/plain": [
       "   Age        BMI  Glucose  Insulin      HOMA   Leptin  Adiponectin  Resistin  \\\n",
       "0   48  23.500000       70    2.707  0.467409   8.8071     9.702400   7.99585   \n",
       "1   83  20.690495       92    3.115  0.706897   8.8438     5.429285   4.06405   \n",
       "2   82  23.124670       91    4.498  1.009651  17.9393    22.432040   9.27715   \n",
       "\n",
       "     MCP.1  Classification  \n",
       "0  417.114               1  \n",
       "1  468.786               1  \n",
       "2  554.697               1  "
      ]
     },
     "execution_count": 5,
     "metadata": {},
     "output_type": "execute_result"
    }
   ],
   "source": [
    "numeric=['int8', 'int16', 'int32', 'int64', 'float16', 'float32', 'float64']\n",
    "df_num=df.select_dtypes(include=numeric)\n",
    "df_num.head(3)"
   ]
  },
  {
   "cell_type": "code",
   "execution_count": 6,
   "metadata": {},
   "outputs": [
    {
     "data": {
      "text/plain": [
       "array([1, 2])"
      ]
     },
     "execution_count": 6,
     "metadata": {},
     "output_type": "execute_result"
    }
   ],
   "source": [
    "df.Classification.unique()"
   ]
  },
  {
   "cell_type": "markdown",
   "metadata": {},
   "source": [
    "# Exploratory Data Analysis (EDA)"
   ]
  },
  {
   "cell_type": "markdown",
   "metadata": {},
   "source": [
    "## Changing 'status' data value"
   ]
  },
  {
   "cell_type": "code",
   "execution_count": 7,
   "metadata": {},
   "outputs": [
    {
     "data": {
      "text/html": [
       "<div>\n",
       "<style scoped>\n",
       "    .dataframe tbody tr th:only-of-type {\n",
       "        vertical-align: middle;\n",
       "    }\n",
       "\n",
       "    .dataframe tbody tr th {\n",
       "        vertical-align: top;\n",
       "    }\n",
       "\n",
       "    .dataframe thead th {\n",
       "        text-align: right;\n",
       "    }\n",
       "</style>\n",
       "<table border=\"1\" class=\"dataframe\">\n",
       "  <thead>\n",
       "    <tr style=\"text-align: right;\">\n",
       "      <th></th>\n",
       "      <th>Age</th>\n",
       "      <th>BMI</th>\n",
       "      <th>Glucose</th>\n",
       "      <th>Insulin</th>\n",
       "      <th>HOMA</th>\n",
       "      <th>Leptin</th>\n",
       "      <th>Adiponectin</th>\n",
       "      <th>Resistin</th>\n",
       "      <th>MCP.1</th>\n",
       "      <th>Classification</th>\n",
       "    </tr>\n",
       "  </thead>\n",
       "  <tbody>\n",
       "    <tr>\n",
       "      <th>0</th>\n",
       "      <td>48</td>\n",
       "      <td>23.500000</td>\n",
       "      <td>70</td>\n",
       "      <td>2.707</td>\n",
       "      <td>0.467409</td>\n",
       "      <td>8.8071</td>\n",
       "      <td>9.702400</td>\n",
       "      <td>7.99585</td>\n",
       "      <td>417.114</td>\n",
       "      <td>0</td>\n",
       "    </tr>\n",
       "    <tr>\n",
       "      <th>1</th>\n",
       "      <td>83</td>\n",
       "      <td>20.690495</td>\n",
       "      <td>92</td>\n",
       "      <td>3.115</td>\n",
       "      <td>0.706897</td>\n",
       "      <td>8.8438</td>\n",
       "      <td>5.429285</td>\n",
       "      <td>4.06405</td>\n",
       "      <td>468.786</td>\n",
       "      <td>0</td>\n",
       "    </tr>\n",
       "    <tr>\n",
       "      <th>2</th>\n",
       "      <td>82</td>\n",
       "      <td>23.124670</td>\n",
       "      <td>91</td>\n",
       "      <td>4.498</td>\n",
       "      <td>1.009651</td>\n",
       "      <td>17.9393</td>\n",
       "      <td>22.432040</td>\n",
       "      <td>9.27715</td>\n",
       "      <td>554.697</td>\n",
       "      <td>0</td>\n",
       "    </tr>\n",
       "    <tr>\n",
       "      <th>3</th>\n",
       "      <td>68</td>\n",
       "      <td>21.367521</td>\n",
       "      <td>77</td>\n",
       "      <td>3.226</td>\n",
       "      <td>0.612725</td>\n",
       "      <td>9.8827</td>\n",
       "      <td>7.169560</td>\n",
       "      <td>12.76600</td>\n",
       "      <td>928.220</td>\n",
       "      <td>0</td>\n",
       "    </tr>\n",
       "    <tr>\n",
       "      <th>4</th>\n",
       "      <td>86</td>\n",
       "      <td>21.111111</td>\n",
       "      <td>92</td>\n",
       "      <td>3.549</td>\n",
       "      <td>0.805386</td>\n",
       "      <td>6.6994</td>\n",
       "      <td>4.819240</td>\n",
       "      <td>10.57635</td>\n",
       "      <td>773.920</td>\n",
       "      <td>0</td>\n",
       "    </tr>\n",
       "    <tr>\n",
       "      <th>...</th>\n",
       "      <td>...</td>\n",
       "      <td>...</td>\n",
       "      <td>...</td>\n",
       "      <td>...</td>\n",
       "      <td>...</td>\n",
       "      <td>...</td>\n",
       "      <td>...</td>\n",
       "      <td>...</td>\n",
       "      <td>...</td>\n",
       "      <td>...</td>\n",
       "    </tr>\n",
       "    <tr>\n",
       "      <th>111</th>\n",
       "      <td>45</td>\n",
       "      <td>26.850000</td>\n",
       "      <td>92</td>\n",
       "      <td>3.330</td>\n",
       "      <td>0.755688</td>\n",
       "      <td>54.6800</td>\n",
       "      <td>12.100000</td>\n",
       "      <td>10.96000</td>\n",
       "      <td>268.230</td>\n",
       "      <td>1</td>\n",
       "    </tr>\n",
       "    <tr>\n",
       "      <th>112</th>\n",
       "      <td>62</td>\n",
       "      <td>26.840000</td>\n",
       "      <td>100</td>\n",
       "      <td>4.530</td>\n",
       "      <td>1.117400</td>\n",
       "      <td>12.4500</td>\n",
       "      <td>21.420000</td>\n",
       "      <td>7.32000</td>\n",
       "      <td>330.160</td>\n",
       "      <td>1</td>\n",
       "    </tr>\n",
       "    <tr>\n",
       "      <th>113</th>\n",
       "      <td>65</td>\n",
       "      <td>32.050000</td>\n",
       "      <td>97</td>\n",
       "      <td>5.730</td>\n",
       "      <td>1.370998</td>\n",
       "      <td>61.4800</td>\n",
       "      <td>22.540000</td>\n",
       "      <td>10.33000</td>\n",
       "      <td>314.050</td>\n",
       "      <td>1</td>\n",
       "    </tr>\n",
       "    <tr>\n",
       "      <th>114</th>\n",
       "      <td>72</td>\n",
       "      <td>25.590000</td>\n",
       "      <td>82</td>\n",
       "      <td>2.820</td>\n",
       "      <td>0.570392</td>\n",
       "      <td>24.9600</td>\n",
       "      <td>33.750000</td>\n",
       "      <td>3.27000</td>\n",
       "      <td>392.460</td>\n",
       "      <td>1</td>\n",
       "    </tr>\n",
       "    <tr>\n",
       "      <th>115</th>\n",
       "      <td>86</td>\n",
       "      <td>27.180000</td>\n",
       "      <td>138</td>\n",
       "      <td>19.910</td>\n",
       "      <td>6.777364</td>\n",
       "      <td>90.2800</td>\n",
       "      <td>14.110000</td>\n",
       "      <td>4.35000</td>\n",
       "      <td>90.090</td>\n",
       "      <td>1</td>\n",
       "    </tr>\n",
       "  </tbody>\n",
       "</table>\n",
       "<p>116 rows × 10 columns</p>\n",
       "</div>"
      ],
      "text/plain": [
       "     Age        BMI  Glucose  Insulin      HOMA   Leptin  Adiponectin  \\\n",
       "0     48  23.500000       70    2.707  0.467409   8.8071     9.702400   \n",
       "1     83  20.690495       92    3.115  0.706897   8.8438     5.429285   \n",
       "2     82  23.124670       91    4.498  1.009651  17.9393    22.432040   \n",
       "3     68  21.367521       77    3.226  0.612725   9.8827     7.169560   \n",
       "4     86  21.111111       92    3.549  0.805386   6.6994     4.819240   \n",
       "..   ...        ...      ...      ...       ...      ...          ...   \n",
       "111   45  26.850000       92    3.330  0.755688  54.6800    12.100000   \n",
       "112   62  26.840000      100    4.530  1.117400  12.4500    21.420000   \n",
       "113   65  32.050000       97    5.730  1.370998  61.4800    22.540000   \n",
       "114   72  25.590000       82    2.820  0.570392  24.9600    33.750000   \n",
       "115   86  27.180000      138   19.910  6.777364  90.2800    14.110000   \n",
       "\n",
       "     Resistin    MCP.1  Classification  \n",
       "0     7.99585  417.114               0  \n",
       "1     4.06405  468.786               0  \n",
       "2     9.27715  554.697               0  \n",
       "3    12.76600  928.220               0  \n",
       "4    10.57635  773.920               0  \n",
       "..        ...      ...             ...  \n",
       "111  10.96000  268.230               1  \n",
       "112   7.32000  330.160               1  \n",
       "113  10.33000  314.050               1  \n",
       "114   3.27000  392.460               1  \n",
       "115   4.35000   90.090               1  \n",
       "\n",
       "[116 rows x 10 columns]"
      ]
     },
     "execution_count": 7,
     "metadata": {},
     "output_type": "execute_result"
    }
   ],
   "source": [
    "df['Classification'] = df.Classification.map({1:0, 2:1})\n",
    "df"
   ]
  },
  {
   "cell_type": "markdown",
   "metadata": {},
   "source": [
    "## Statistical Summary"
   ]
  },
  {
   "cell_type": "code",
   "execution_count": 8,
   "metadata": {},
   "outputs": [
    {
     "data": {
      "text/html": [
       "<style  type=\"text/css\" >\n",
       "#T_da9d3744_8ba7_11eb_b38c_f018989d2efcrow0_col0,#T_da9d3744_8ba7_11eb_b38c_f018989d2efcrow1_col0,#T_da9d3744_8ba7_11eb_b38c_f018989d2efcrow2_col0,#T_da9d3744_8ba7_11eb_b38c_f018989d2efcrow3_col0,#T_da9d3744_8ba7_11eb_b38c_f018989d2efcrow4_col0,#T_da9d3744_8ba7_11eb_b38c_f018989d2efcrow5_col0,#T_da9d3744_8ba7_11eb_b38c_f018989d2efcrow6_col0,#T_da9d3744_8ba7_11eb_b38c_f018989d2efcrow7_col0,#T_da9d3744_8ba7_11eb_b38c_f018989d2efcrow8_col0,#T_da9d3744_8ba7_11eb_b38c_f018989d2efcrow9_col0{\n",
       "            background-color:  #440154;\n",
       "            color:  #f1f1f1;\n",
       "        }#T_da9d3744_8ba7_11eb_b38c_f018989d2efcrow0_col1{\n",
       "            background-color:  #3d4e8a;\n",
       "            color:  #f1f1f1;\n",
       "        }#T_da9d3744_8ba7_11eb_b38c_f018989d2efcrow0_col2,#T_da9d3744_8ba7_11eb_b38c_f018989d2efcrow5_col1,#T_da9d3744_8ba7_11eb_b38c_f018989d2efcrow5_col4,#T_da9d3744_8ba7_11eb_b38c_f018989d2efcrow7_col7{\n",
       "            background-color:  #424086;\n",
       "            color:  #f1f1f1;\n",
       "        }#T_da9d3744_8ba7_11eb_b38c_f018989d2efcrow0_col3{\n",
       "            background-color:  #24878e;\n",
       "            color:  #000000;\n",
       "        }#T_da9d3744_8ba7_11eb_b38c_f018989d2efcrow0_col4{\n",
       "            background-color:  #375b8d;\n",
       "            color:  #f1f1f1;\n",
       "        }#T_da9d3744_8ba7_11eb_b38c_f018989d2efcrow0_col5,#T_da9d3744_8ba7_11eb_b38c_f018989d2efcrow2_col7{\n",
       "            background-color:  #3c508b;\n",
       "            color:  #f1f1f1;\n",
       "        }#T_da9d3744_8ba7_11eb_b38c_f018989d2efcrow0_col6{\n",
       "            background-color:  #3d4d8a;\n",
       "            color:  #f1f1f1;\n",
       "        }#T_da9d3744_8ba7_11eb_b38c_f018989d2efcrow0_col7,#T_da9d3744_8ba7_11eb_b38c_f018989d2efcrow1_col1,#T_da9d3744_8ba7_11eb_b38c_f018989d2efcrow5_col6,#T_da9d3744_8ba7_11eb_b38c_f018989d2efcrow5_col7,#T_da9d3744_8ba7_11eb_b38c_f018989d2efcrow7_col3{\n",
       "            background-color:  #424186;\n",
       "            color:  #f1f1f1;\n",
       "        }#T_da9d3744_8ba7_11eb_b38c_f018989d2efcrow1_col2,#T_da9d3744_8ba7_11eb_b38c_f018989d2efcrow3_col5,#T_da9d3744_8ba7_11eb_b38c_f018989d2efcrow4_col2{\n",
       "            background-color:  #453882;\n",
       "            color:  #f1f1f1;\n",
       "        }#T_da9d3744_8ba7_11eb_b38c_f018989d2efcrow1_col3{\n",
       "            background-color:  #2b758e;\n",
       "            color:  #f1f1f1;\n",
       "        }#T_da9d3744_8ba7_11eb_b38c_f018989d2efcrow1_col4{\n",
       "            background-color:  #3e4989;\n",
       "            color:  #f1f1f1;\n",
       "        }#T_da9d3744_8ba7_11eb_b38c_f018989d2efcrow1_col5,#T_da9d3744_8ba7_11eb_b38c_f018989d2efcrow5_col2{\n",
       "            background-color:  #414287;\n",
       "            color:  #f1f1f1;\n",
       "        }#T_da9d3744_8ba7_11eb_b38c_f018989d2efcrow1_col6,#T_da9d3744_8ba7_11eb_b38c_f018989d2efcrow3_col3,#T_da9d3744_8ba7_11eb_b38c_f018989d2efcrow5_col5{\n",
       "            background-color:  #423f85;\n",
       "            color:  #f1f1f1;\n",
       "        }#T_da9d3744_8ba7_11eb_b38c_f018989d2efcrow1_col7,#T_da9d3744_8ba7_11eb_b38c_f018989d2efcrow6_col2,#T_da9d3744_8ba7_11eb_b38c_f018989d2efcrow6_col4,#T_da9d3744_8ba7_11eb_b38c_f018989d2efcrow6_col7,#T_da9d3744_8ba7_11eb_b38c_f018989d2efcrow7_col5{\n",
       "            background-color:  #443a83;\n",
       "            color:  #f1f1f1;\n",
       "        }#T_da9d3744_8ba7_11eb_b38c_f018989d2efcrow2_col1{\n",
       "            background-color:  #355e8d;\n",
       "            color:  #f1f1f1;\n",
       "        }#T_da9d3744_8ba7_11eb_b38c_f018989d2efcrow2_col2{\n",
       "            background-color:  #414487;\n",
       "            color:  #f1f1f1;\n",
       "        }#T_da9d3744_8ba7_11eb_b38c_f018989d2efcrow2_col3,#T_da9d3744_8ba7_11eb_b38c_f018989d2efcrow8_col1,#T_da9d3744_8ba7_11eb_b38c_f018989d2efcrow8_col2,#T_da9d3744_8ba7_11eb_b38c_f018989d2efcrow8_col4,#T_da9d3744_8ba7_11eb_b38c_f018989d2efcrow8_col5,#T_da9d3744_8ba7_11eb_b38c_f018989d2efcrow8_col6,#T_da9d3744_8ba7_11eb_b38c_f018989d2efcrow8_col7{\n",
       "            background-color:  #cde11d;\n",
       "            color:  #000000;\n",
       "        }#T_da9d3744_8ba7_11eb_b38c_f018989d2efcrow2_col4{\n",
       "            background-color:  #2a778e;\n",
       "            color:  #000000;\n",
       "        }#T_da9d3744_8ba7_11eb_b38c_f018989d2efcrow2_col5{\n",
       "            background-color:  #34608d;\n",
       "            color:  #f1f1f1;\n",
       "        }#T_da9d3744_8ba7_11eb_b38c_f018989d2efcrow2_col6{\n",
       "            background-color:  #39558c;\n",
       "            color:  #f1f1f1;\n",
       "        }#T_da9d3744_8ba7_11eb_b38c_f018989d2efcrow3_col1,#T_da9d3744_8ba7_11eb_b38c_f018989d2efcrow3_col4,#T_da9d3744_8ba7_11eb_b38c_f018989d2efcrow3_col6,#T_da9d3744_8ba7_11eb_b38c_f018989d2efcrow4_col7,#T_da9d3744_8ba7_11eb_b38c_f018989d2efcrow6_col1,#T_da9d3744_8ba7_11eb_b38c_f018989d2efcrow6_col5,#T_da9d3744_8ba7_11eb_b38c_f018989d2efcrow6_col6{\n",
       "            background-color:  #443983;\n",
       "            color:  #f1f1f1;\n",
       "        }#T_da9d3744_8ba7_11eb_b38c_f018989d2efcrow3_col2,#T_da9d3744_8ba7_11eb_b38c_f018989d2efcrow6_col3,#T_da9d3744_8ba7_11eb_b38c_f018989d2efcrow7_col1,#T_da9d3744_8ba7_11eb_b38c_f018989d2efcrow7_col4,#T_da9d3744_8ba7_11eb_b38c_f018989d2efcrow7_col6{\n",
       "            background-color:  #443b84;\n",
       "            color:  #f1f1f1;\n",
       "        }#T_da9d3744_8ba7_11eb_b38c_f018989d2efcrow3_col7,#T_da9d3744_8ba7_11eb_b38c_f018989d2efcrow7_col2{\n",
       "            background-color:  #433e85;\n",
       "            color:  #f1f1f1;\n",
       "        }#T_da9d3744_8ba7_11eb_b38c_f018989d2efcrow4_col1,#T_da9d3744_8ba7_11eb_b38c_f018989d2efcrow4_col3,#T_da9d3744_8ba7_11eb_b38c_f018989d2efcrow4_col4{\n",
       "            background-color:  #453781;\n",
       "            color:  #f1f1f1;\n",
       "        }#T_da9d3744_8ba7_11eb_b38c_f018989d2efcrow4_col5,#T_da9d3744_8ba7_11eb_b38c_f018989d2efcrow4_col6,#T_da9d3744_8ba7_11eb_b38c_f018989d2efcrow9_col1,#T_da9d3744_8ba7_11eb_b38c_f018989d2efcrow9_col2,#T_da9d3744_8ba7_11eb_b38c_f018989d2efcrow9_col3,#T_da9d3744_8ba7_11eb_b38c_f018989d2efcrow9_col4,#T_da9d3744_8ba7_11eb_b38c_f018989d2efcrow9_col5,#T_da9d3744_8ba7_11eb_b38c_f018989d2efcrow9_col6,#T_da9d3744_8ba7_11eb_b38c_f018989d2efcrow9_col7{\n",
       "            background-color:  #453581;\n",
       "            color:  #f1f1f1;\n",
       "        }#T_da9d3744_8ba7_11eb_b38c_f018989d2efcrow5_col3{\n",
       "            background-color:  #404688;\n",
       "            color:  #f1f1f1;\n",
       "        }#T_da9d3744_8ba7_11eb_b38c_f018989d2efcrow8_col3{\n",
       "            background-color:  #58c765;\n",
       "            color:  #000000;\n",
       "        }</style><table id=\"T_da9d3744_8ba7_11eb_b38c_f018989d2efc\" ><thead>    <tr>        <th class=\"blank level0\" ></th>        <th class=\"col_heading level0 col0\" >count</th>        <th class=\"col_heading level0 col1\" >mean</th>        <th class=\"col_heading level0 col2\" >std</th>        <th class=\"col_heading level0 col3\" >min</th>        <th class=\"col_heading level0 col4\" >25%</th>        <th class=\"col_heading level0 col5\" >50%</th>        <th class=\"col_heading level0 col6\" >75%</th>        <th class=\"col_heading level0 col7\" >max</th>    </tr></thead><tbody>\n",
       "                <tr>\n",
       "                        <th id=\"T_da9d3744_8ba7_11eb_b38c_f018989d2efclevel0_row0\" class=\"row_heading level0 row0\" >Age</th>\n",
       "                        <td id=\"T_da9d3744_8ba7_11eb_b38c_f018989d2efcrow0_col0\" class=\"data row0 col0\" >116.000000</td>\n",
       "                        <td id=\"T_da9d3744_8ba7_11eb_b38c_f018989d2efcrow0_col1\" class=\"data row0 col1\" >57.301724</td>\n",
       "                        <td id=\"T_da9d3744_8ba7_11eb_b38c_f018989d2efcrow0_col2\" class=\"data row0 col2\" >16.112766</td>\n",
       "                        <td id=\"T_da9d3744_8ba7_11eb_b38c_f018989d2efcrow0_col3\" class=\"data row0 col3\" >24.000000</td>\n",
       "                        <td id=\"T_da9d3744_8ba7_11eb_b38c_f018989d2efcrow0_col4\" class=\"data row0 col4\" >45.000000</td>\n",
       "                        <td id=\"T_da9d3744_8ba7_11eb_b38c_f018989d2efcrow0_col5\" class=\"data row0 col5\" >56.000000</td>\n",
       "                        <td id=\"T_da9d3744_8ba7_11eb_b38c_f018989d2efcrow0_col6\" class=\"data row0 col6\" >71.000000</td>\n",
       "                        <td id=\"T_da9d3744_8ba7_11eb_b38c_f018989d2efcrow0_col7\" class=\"data row0 col7\" >89.000000</td>\n",
       "            </tr>\n",
       "            <tr>\n",
       "                        <th id=\"T_da9d3744_8ba7_11eb_b38c_f018989d2efclevel0_row1\" class=\"row_heading level0 row1\" >BMI</th>\n",
       "                        <td id=\"T_da9d3744_8ba7_11eb_b38c_f018989d2efcrow1_col0\" class=\"data row1 col0\" >116.000000</td>\n",
       "                        <td id=\"T_da9d3744_8ba7_11eb_b38c_f018989d2efcrow1_col1\" class=\"data row1 col1\" >27.582111</td>\n",
       "                        <td id=\"T_da9d3744_8ba7_11eb_b38c_f018989d2efcrow1_col2\" class=\"data row1 col2\" >5.020136</td>\n",
       "                        <td id=\"T_da9d3744_8ba7_11eb_b38c_f018989d2efcrow1_col3\" class=\"data row1 col3\" >18.370000</td>\n",
       "                        <td id=\"T_da9d3744_8ba7_11eb_b38c_f018989d2efcrow1_col4\" class=\"data row1 col4\" >22.973205</td>\n",
       "                        <td id=\"T_da9d3744_8ba7_11eb_b38c_f018989d2efcrow1_col5\" class=\"data row1 col5\" >27.662416</td>\n",
       "                        <td id=\"T_da9d3744_8ba7_11eb_b38c_f018989d2efcrow1_col6\" class=\"data row1 col6\" >31.241442</td>\n",
       "                        <td id=\"T_da9d3744_8ba7_11eb_b38c_f018989d2efcrow1_col7\" class=\"data row1 col7\" >38.578759</td>\n",
       "            </tr>\n",
       "            <tr>\n",
       "                        <th id=\"T_da9d3744_8ba7_11eb_b38c_f018989d2efclevel0_row2\" class=\"row_heading level0 row2\" >Glucose</th>\n",
       "                        <td id=\"T_da9d3744_8ba7_11eb_b38c_f018989d2efcrow2_col0\" class=\"data row2 col0\" >116.000000</td>\n",
       "                        <td id=\"T_da9d3744_8ba7_11eb_b38c_f018989d2efcrow2_col1\" class=\"data row2 col1\" >97.793103</td>\n",
       "                        <td id=\"T_da9d3744_8ba7_11eb_b38c_f018989d2efcrow2_col2\" class=\"data row2 col2\" >22.525162</td>\n",
       "                        <td id=\"T_da9d3744_8ba7_11eb_b38c_f018989d2efcrow2_col3\" class=\"data row2 col3\" >60.000000</td>\n",
       "                        <td id=\"T_da9d3744_8ba7_11eb_b38c_f018989d2efcrow2_col4\" class=\"data row2 col4\" >85.750000</td>\n",
       "                        <td id=\"T_da9d3744_8ba7_11eb_b38c_f018989d2efcrow2_col5\" class=\"data row2 col5\" >92.000000</td>\n",
       "                        <td id=\"T_da9d3744_8ba7_11eb_b38c_f018989d2efcrow2_col6\" class=\"data row2 col6\" >102.000000</td>\n",
       "                        <td id=\"T_da9d3744_8ba7_11eb_b38c_f018989d2efcrow2_col7\" class=\"data row2 col7\" >201.000000</td>\n",
       "            </tr>\n",
       "            <tr>\n",
       "                        <th id=\"T_da9d3744_8ba7_11eb_b38c_f018989d2efclevel0_row3\" class=\"row_heading level0 row3\" >Insulin</th>\n",
       "                        <td id=\"T_da9d3744_8ba7_11eb_b38c_f018989d2efcrow3_col0\" class=\"data row3 col0\" >116.000000</td>\n",
       "                        <td id=\"T_da9d3744_8ba7_11eb_b38c_f018989d2efcrow3_col1\" class=\"data row3 col1\" >10.012086</td>\n",
       "                        <td id=\"T_da9d3744_8ba7_11eb_b38c_f018989d2efcrow3_col2\" class=\"data row3 col2\" >10.067768</td>\n",
       "                        <td id=\"T_da9d3744_8ba7_11eb_b38c_f018989d2efcrow3_col3\" class=\"data row3 col3\" >2.432000</td>\n",
       "                        <td id=\"T_da9d3744_8ba7_11eb_b38c_f018989d2efcrow3_col4\" class=\"data row3 col4\" >4.359250</td>\n",
       "                        <td id=\"T_da9d3744_8ba7_11eb_b38c_f018989d2efcrow3_col5\" class=\"data row3 col5\" >5.924500</td>\n",
       "                        <td id=\"T_da9d3744_8ba7_11eb_b38c_f018989d2efcrow3_col6\" class=\"data row3 col6\" >11.189250</td>\n",
       "                        <td id=\"T_da9d3744_8ba7_11eb_b38c_f018989d2efcrow3_col7\" class=\"data row3 col7\" >58.460000</td>\n",
       "            </tr>\n",
       "            <tr>\n",
       "                        <th id=\"T_da9d3744_8ba7_11eb_b38c_f018989d2efclevel0_row4\" class=\"row_heading level0 row4\" >HOMA</th>\n",
       "                        <td id=\"T_da9d3744_8ba7_11eb_b38c_f018989d2efcrow4_col0\" class=\"data row4 col0\" >116.000000</td>\n",
       "                        <td id=\"T_da9d3744_8ba7_11eb_b38c_f018989d2efcrow4_col1\" class=\"data row4 col1\" >2.694988</td>\n",
       "                        <td id=\"T_da9d3744_8ba7_11eb_b38c_f018989d2efcrow4_col2\" class=\"data row4 col2\" >3.642043</td>\n",
       "                        <td id=\"T_da9d3744_8ba7_11eb_b38c_f018989d2efcrow4_col3\" class=\"data row4 col3\" >0.467409</td>\n",
       "                        <td id=\"T_da9d3744_8ba7_11eb_b38c_f018989d2efcrow4_col4\" class=\"data row4 col4\" >0.917966</td>\n",
       "                        <td id=\"T_da9d3744_8ba7_11eb_b38c_f018989d2efcrow4_col5\" class=\"data row4 col5\" >1.380939</td>\n",
       "                        <td id=\"T_da9d3744_8ba7_11eb_b38c_f018989d2efcrow4_col6\" class=\"data row4 col6\" >2.857787</td>\n",
       "                        <td id=\"T_da9d3744_8ba7_11eb_b38c_f018989d2efcrow4_col7\" class=\"data row4 col7\" >25.050342</td>\n",
       "            </tr>\n",
       "            <tr>\n",
       "                        <th id=\"T_da9d3744_8ba7_11eb_b38c_f018989d2efclevel0_row5\" class=\"row_heading level0 row5\" >Leptin</th>\n",
       "                        <td id=\"T_da9d3744_8ba7_11eb_b38c_f018989d2efcrow5_col0\" class=\"data row5 col0\" >116.000000</td>\n",
       "                        <td id=\"T_da9d3744_8ba7_11eb_b38c_f018989d2efcrow5_col1\" class=\"data row5 col1\" >26.615080</td>\n",
       "                        <td id=\"T_da9d3744_8ba7_11eb_b38c_f018989d2efcrow5_col2\" class=\"data row5 col2\" >19.183294</td>\n",
       "                        <td id=\"T_da9d3744_8ba7_11eb_b38c_f018989d2efcrow5_col3\" class=\"data row5 col3\" >4.311000</td>\n",
       "                        <td id=\"T_da9d3744_8ba7_11eb_b38c_f018989d2efcrow5_col4\" class=\"data row5 col4\" >12.313675</td>\n",
       "                        <td id=\"T_da9d3744_8ba7_11eb_b38c_f018989d2efcrow5_col5\" class=\"data row5 col5\" >20.271000</td>\n",
       "                        <td id=\"T_da9d3744_8ba7_11eb_b38c_f018989d2efcrow5_col6\" class=\"data row5 col6\" >37.378300</td>\n",
       "                        <td id=\"T_da9d3744_8ba7_11eb_b38c_f018989d2efcrow5_col7\" class=\"data row5 col7\" >90.280000</td>\n",
       "            </tr>\n",
       "            <tr>\n",
       "                        <th id=\"T_da9d3744_8ba7_11eb_b38c_f018989d2efclevel0_row6\" class=\"row_heading level0 row6\" >Adiponectin</th>\n",
       "                        <td id=\"T_da9d3744_8ba7_11eb_b38c_f018989d2efcrow6_col0\" class=\"data row6 col0\" >116.000000</td>\n",
       "                        <td id=\"T_da9d3744_8ba7_11eb_b38c_f018989d2efcrow6_col1\" class=\"data row6 col1\" >10.180874</td>\n",
       "                        <td id=\"T_da9d3744_8ba7_11eb_b38c_f018989d2efcrow6_col2\" class=\"data row6 col2\" >6.843341</td>\n",
       "                        <td id=\"T_da9d3744_8ba7_11eb_b38c_f018989d2efcrow6_col3\" class=\"data row6 col3\" >1.656020</td>\n",
       "                        <td id=\"T_da9d3744_8ba7_11eb_b38c_f018989d2efcrow6_col4\" class=\"data row6 col4\" >5.474282</td>\n",
       "                        <td id=\"T_da9d3744_8ba7_11eb_b38c_f018989d2efcrow6_col5\" class=\"data row6 col5\" >8.352692</td>\n",
       "                        <td id=\"T_da9d3744_8ba7_11eb_b38c_f018989d2efcrow6_col6\" class=\"data row6 col6\" >11.815970</td>\n",
       "                        <td id=\"T_da9d3744_8ba7_11eb_b38c_f018989d2efcrow6_col7\" class=\"data row6 col7\" >38.040000</td>\n",
       "            </tr>\n",
       "            <tr>\n",
       "                        <th id=\"T_da9d3744_8ba7_11eb_b38c_f018989d2efclevel0_row7\" class=\"row_heading level0 row7\" >Resistin</th>\n",
       "                        <td id=\"T_da9d3744_8ba7_11eb_b38c_f018989d2efcrow7_col0\" class=\"data row7 col0\" >116.000000</td>\n",
       "                        <td id=\"T_da9d3744_8ba7_11eb_b38c_f018989d2efcrow7_col1\" class=\"data row7 col1\" >14.725966</td>\n",
       "                        <td id=\"T_da9d3744_8ba7_11eb_b38c_f018989d2efcrow7_col2\" class=\"data row7 col2\" >12.390646</td>\n",
       "                        <td id=\"T_da9d3744_8ba7_11eb_b38c_f018989d2efcrow7_col3\" class=\"data row7 col3\" >3.210000</td>\n",
       "                        <td id=\"T_da9d3744_8ba7_11eb_b38c_f018989d2efcrow7_col4\" class=\"data row7 col4\" >6.881763</td>\n",
       "                        <td id=\"T_da9d3744_8ba7_11eb_b38c_f018989d2efcrow7_col5\" class=\"data row7 col5\" >10.827740</td>\n",
       "                        <td id=\"T_da9d3744_8ba7_11eb_b38c_f018989d2efcrow7_col6\" class=\"data row7 col6\" >17.755207</td>\n",
       "                        <td id=\"T_da9d3744_8ba7_11eb_b38c_f018989d2efcrow7_col7\" class=\"data row7 col7\" >82.100000</td>\n",
       "            </tr>\n",
       "            <tr>\n",
       "                        <th id=\"T_da9d3744_8ba7_11eb_b38c_f018989d2efclevel0_row8\" class=\"row_heading level0 row8\" >MCP.1</th>\n",
       "                        <td id=\"T_da9d3744_8ba7_11eb_b38c_f018989d2efcrow8_col0\" class=\"data row8 col0\" >116.000000</td>\n",
       "                        <td id=\"T_da9d3744_8ba7_11eb_b38c_f018989d2efcrow8_col1\" class=\"data row8 col1\" >534.647000</td>\n",
       "                        <td id=\"T_da9d3744_8ba7_11eb_b38c_f018989d2efcrow8_col2\" class=\"data row8 col2\" >345.912663</td>\n",
       "                        <td id=\"T_da9d3744_8ba7_11eb_b38c_f018989d2efcrow8_col3\" class=\"data row8 col3\" >45.843000</td>\n",
       "                        <td id=\"T_da9d3744_8ba7_11eb_b38c_f018989d2efcrow8_col4\" class=\"data row8 col4\" >269.978250</td>\n",
       "                        <td id=\"T_da9d3744_8ba7_11eb_b38c_f018989d2efcrow8_col5\" class=\"data row8 col5\" >471.322500</td>\n",
       "                        <td id=\"T_da9d3744_8ba7_11eb_b38c_f018989d2efcrow8_col6\" class=\"data row8 col6\" >700.085000</td>\n",
       "                        <td id=\"T_da9d3744_8ba7_11eb_b38c_f018989d2efcrow8_col7\" class=\"data row8 col7\" >1698.440000</td>\n",
       "            </tr>\n",
       "            <tr>\n",
       "                        <th id=\"T_da9d3744_8ba7_11eb_b38c_f018989d2efclevel0_row9\" class=\"row_heading level0 row9\" >Classification</th>\n",
       "                        <td id=\"T_da9d3744_8ba7_11eb_b38c_f018989d2efcrow9_col0\" class=\"data row9 col0\" >116.000000</td>\n",
       "                        <td id=\"T_da9d3744_8ba7_11eb_b38c_f018989d2efcrow9_col1\" class=\"data row9 col1\" >0.551724</td>\n",
       "                        <td id=\"T_da9d3744_8ba7_11eb_b38c_f018989d2efcrow9_col2\" class=\"data row9 col2\" >0.499475</td>\n",
       "                        <td id=\"T_da9d3744_8ba7_11eb_b38c_f018989d2efcrow9_col3\" class=\"data row9 col3\" >0.000000</td>\n",
       "                        <td id=\"T_da9d3744_8ba7_11eb_b38c_f018989d2efcrow9_col4\" class=\"data row9 col4\" >0.000000</td>\n",
       "                        <td id=\"T_da9d3744_8ba7_11eb_b38c_f018989d2efcrow9_col5\" class=\"data row9 col5\" >1.000000</td>\n",
       "                        <td id=\"T_da9d3744_8ba7_11eb_b38c_f018989d2efcrow9_col6\" class=\"data row9 col6\" >1.000000</td>\n",
       "                        <td id=\"T_da9d3744_8ba7_11eb_b38c_f018989d2efcrow9_col7\" class=\"data row9 col7\" >1.000000</td>\n",
       "            </tr>\n",
       "    </tbody></table>"
      ],
      "text/plain": [
       "<pandas.io.formats.style.Styler at 0x7fc7e0d35490>"
      ]
     },
     "execution_count": 8,
     "metadata": {},
     "output_type": "execute_result"
    }
   ],
   "source": [
    "describeNum = df.describe(include =['float64', 'int64', 'float', 'int'])\n",
    "describeNum.T.style.background_gradient(cmap='viridis',low=0.2,high=0.1)"
   ]
  },
  {
   "cell_type": "markdown",
   "metadata": {},
   "source": [
    "## Missing Value "
   ]
  },
  {
   "cell_type": "code",
   "execution_count": 9,
   "metadata": {},
   "outputs": [
    {
     "data": {
      "text/html": [
       "<style  type=\"text/css\" >\n",
       "</style><table id=\"T_dab5ef28_8ba7_11eb_b38c_f018989d2efc\" ><thead>    <tr>        <th class=\"blank level0\" ></th>        <th class=\"col_heading level0 col0\" >Null Values</th>        <th class=\"col_heading level0 col1\" >% Missing Values</th>    </tr></thead><tbody>\n",
       "        </tbody></table>"
      ],
      "text/plain": [
       "<pandas.io.formats.style.Styler at 0x7fc7e0ea54f0>"
      ]
     },
     "execution_count": 9,
     "metadata": {},
     "output_type": "execute_result"
    }
   ],
   "source": [
    "null=pd.DataFrame(df.isnull().sum(),columns=[\"Null Values\"])\n",
    "null[\"% Missing Values\"]=(df.isna().sum()/len(df)*100)\n",
    "null = null[null[\"% Missing Values\"] > 0]\n",
    "null.style.background_gradient(cmap='viridis',low =0.2,high=0.1) "
   ]
  },
  {
   "cell_type": "markdown",
   "metadata": {},
   "source": [
    "## Graphic Approach"
   ]
  },
  {
   "cell_type": "markdown",
   "metadata": {},
   "source": [
    " ### Correlation heatmap"
   ]
  },
  {
   "cell_type": "code",
   "execution_count": 10,
   "metadata": {},
   "outputs": [
    {
     "data": {
      "text/html": [
       "<div>\n",
       "<style scoped>\n",
       "    .dataframe tbody tr th:only-of-type {\n",
       "        vertical-align: middle;\n",
       "    }\n",
       "\n",
       "    .dataframe tbody tr th {\n",
       "        vertical-align: top;\n",
       "    }\n",
       "\n",
       "    .dataframe thead th {\n",
       "        text-align: right;\n",
       "    }\n",
       "</style>\n",
       "<table border=\"1\" class=\"dataframe\">\n",
       "  <thead>\n",
       "    <tr style=\"text-align: right;\">\n",
       "      <th></th>\n",
       "      <th>Age</th>\n",
       "      <th>BMI</th>\n",
       "      <th>Glucose</th>\n",
       "      <th>Insulin</th>\n",
       "      <th>HOMA</th>\n",
       "      <th>Leptin</th>\n",
       "      <th>Adiponectin</th>\n",
       "      <th>Resistin</th>\n",
       "      <th>MCP.1</th>\n",
       "      <th>Classification</th>\n",
       "    </tr>\n",
       "  </thead>\n",
       "  <tbody>\n",
       "    <tr>\n",
       "      <th>Age</th>\n",
       "      <td>1.000000</td>\n",
       "      <td>0.008530</td>\n",
       "      <td>0.230106</td>\n",
       "      <td>0.032495</td>\n",
       "      <td>0.127033</td>\n",
       "      <td>0.102626</td>\n",
       "      <td>-0.219813</td>\n",
       "      <td>0.002742</td>\n",
       "      <td>0.013462</td>\n",
       "      <td>-0.043555</td>\n",
       "    </tr>\n",
       "    <tr>\n",
       "      <th>BMI</th>\n",
       "      <td>0.008530</td>\n",
       "      <td>1.000000</td>\n",
       "      <td>0.138845</td>\n",
       "      <td>0.145295</td>\n",
       "      <td>0.114480</td>\n",
       "      <td>0.569593</td>\n",
       "      <td>-0.302735</td>\n",
       "      <td>0.195350</td>\n",
       "      <td>0.224038</td>\n",
       "      <td>-0.132586</td>\n",
       "    </tr>\n",
       "    <tr>\n",
       "      <th>Glucose</th>\n",
       "      <td>0.230106</td>\n",
       "      <td>0.138845</td>\n",
       "      <td>1.000000</td>\n",
       "      <td>0.504653</td>\n",
       "      <td>0.696212</td>\n",
       "      <td>0.305080</td>\n",
       "      <td>-0.122121</td>\n",
       "      <td>0.291327</td>\n",
       "      <td>0.264879</td>\n",
       "      <td>0.384315</td>\n",
       "    </tr>\n",
       "    <tr>\n",
       "      <th>Insulin</th>\n",
       "      <td>0.032495</td>\n",
       "      <td>0.145295</td>\n",
       "      <td>0.504653</td>\n",
       "      <td>1.000000</td>\n",
       "      <td>0.932198</td>\n",
       "      <td>0.301462</td>\n",
       "      <td>-0.031296</td>\n",
       "      <td>0.146731</td>\n",
       "      <td>0.174356</td>\n",
       "      <td>0.276804</td>\n",
       "    </tr>\n",
       "    <tr>\n",
       "      <th>HOMA</th>\n",
       "      <td>0.127033</td>\n",
       "      <td>0.114480</td>\n",
       "      <td>0.696212</td>\n",
       "      <td>0.932198</td>\n",
       "      <td>1.000000</td>\n",
       "      <td>0.327210</td>\n",
       "      <td>-0.056337</td>\n",
       "      <td>0.231101</td>\n",
       "      <td>0.259529</td>\n",
       "      <td>0.284012</td>\n",
       "    </tr>\n",
       "    <tr>\n",
       "      <th>Leptin</th>\n",
       "      <td>0.102626</td>\n",
       "      <td>0.569593</td>\n",
       "      <td>0.305080</td>\n",
       "      <td>0.301462</td>\n",
       "      <td>0.327210</td>\n",
       "      <td>1.000000</td>\n",
       "      <td>-0.095389</td>\n",
       "      <td>0.256234</td>\n",
       "      <td>0.014009</td>\n",
       "      <td>-0.001078</td>\n",
       "    </tr>\n",
       "    <tr>\n",
       "      <th>Adiponectin</th>\n",
       "      <td>-0.219813</td>\n",
       "      <td>-0.302735</td>\n",
       "      <td>-0.122121</td>\n",
       "      <td>-0.031296</td>\n",
       "      <td>-0.056337</td>\n",
       "      <td>-0.095389</td>\n",
       "      <td>1.000000</td>\n",
       "      <td>-0.252363</td>\n",
       "      <td>-0.200694</td>\n",
       "      <td>-0.019490</td>\n",
       "    </tr>\n",
       "    <tr>\n",
       "      <th>Resistin</th>\n",
       "      <td>0.002742</td>\n",
       "      <td>0.195350</td>\n",
       "      <td>0.291327</td>\n",
       "      <td>0.146731</td>\n",
       "      <td>0.231101</td>\n",
       "      <td>0.256234</td>\n",
       "      <td>-0.252363</td>\n",
       "      <td>1.000000</td>\n",
       "      <td>0.366474</td>\n",
       "      <td>0.227310</td>\n",
       "    </tr>\n",
       "    <tr>\n",
       "      <th>MCP.1</th>\n",
       "      <td>0.013462</td>\n",
       "      <td>0.224038</td>\n",
       "      <td>0.264879</td>\n",
       "      <td>0.174356</td>\n",
       "      <td>0.259529</td>\n",
       "      <td>0.014009</td>\n",
       "      <td>-0.200694</td>\n",
       "      <td>0.366474</td>\n",
       "      <td>1.000000</td>\n",
       "      <td>0.091381</td>\n",
       "    </tr>\n",
       "    <tr>\n",
       "      <th>Classification</th>\n",
       "      <td>-0.043555</td>\n",
       "      <td>-0.132586</td>\n",
       "      <td>0.384315</td>\n",
       "      <td>0.276804</td>\n",
       "      <td>0.284012</td>\n",
       "      <td>-0.001078</td>\n",
       "      <td>-0.019490</td>\n",
       "      <td>0.227310</td>\n",
       "      <td>0.091381</td>\n",
       "      <td>1.000000</td>\n",
       "    </tr>\n",
       "  </tbody>\n",
       "</table>\n",
       "</div>"
      ],
      "text/plain": [
       "                     Age       BMI   Glucose   Insulin      HOMA    Leptin  \\\n",
       "Age             1.000000  0.008530  0.230106  0.032495  0.127033  0.102626   \n",
       "BMI             0.008530  1.000000  0.138845  0.145295  0.114480  0.569593   \n",
       "Glucose         0.230106  0.138845  1.000000  0.504653  0.696212  0.305080   \n",
       "Insulin         0.032495  0.145295  0.504653  1.000000  0.932198  0.301462   \n",
       "HOMA            0.127033  0.114480  0.696212  0.932198  1.000000  0.327210   \n",
       "Leptin          0.102626  0.569593  0.305080  0.301462  0.327210  1.000000   \n",
       "Adiponectin    -0.219813 -0.302735 -0.122121 -0.031296 -0.056337 -0.095389   \n",
       "Resistin        0.002742  0.195350  0.291327  0.146731  0.231101  0.256234   \n",
       "MCP.1           0.013462  0.224038  0.264879  0.174356  0.259529  0.014009   \n",
       "Classification -0.043555 -0.132586  0.384315  0.276804  0.284012 -0.001078   \n",
       "\n",
       "                Adiponectin  Resistin     MCP.1  Classification  \n",
       "Age               -0.219813  0.002742  0.013462       -0.043555  \n",
       "BMI               -0.302735  0.195350  0.224038       -0.132586  \n",
       "Glucose           -0.122121  0.291327  0.264879        0.384315  \n",
       "Insulin           -0.031296  0.146731  0.174356        0.276804  \n",
       "HOMA              -0.056337  0.231101  0.259529        0.284012  \n",
       "Leptin            -0.095389  0.256234  0.014009       -0.001078  \n",
       "Adiponectin        1.000000 -0.252363 -0.200694       -0.019490  \n",
       "Resistin          -0.252363  1.000000  0.366474        0.227310  \n",
       "MCP.1             -0.200694  0.366474  1.000000        0.091381  \n",
       "Classification    -0.019490  0.227310  0.091381        1.000000  "
      ]
     },
     "execution_count": 10,
     "metadata": {},
     "output_type": "execute_result"
    }
   ],
   "source": [
    "df.corr()"
   ]
  },
  {
   "cell_type": "code",
   "execution_count": 11,
   "metadata": {},
   "outputs": [
    {
     "data": {
      "text/plain": [
       "(10.5, -0.5)"
      ]
     },
     "execution_count": 11,
     "metadata": {},
     "output_type": "execute_result"
    },
    {
     "data": {
      "image/png": "[encoded data removed]",
      "text/plain": [
       "<Figure size 2160x1440 with 2 Axes>"
      ]
     },
     "metadata": {
      "needs_background": "light"
     },
     "output_type": "display_data"
    }
   ],
   "source": [
    "plt.figure(figsize=(30,20))\n",
    "ax = sns.heatmap(data = df.corr(),cmap='YlGnBu',annot=True)\n",
    "\n",
    "bottom, top = ax.get_ylim()\n",
    "ax.set_ylim(bottom + 0.5,top - 0.5)"
   ]
  },
  {
   "cell_type": "markdown",
   "metadata": {},
   "source": [
    "### Scatter plot"
   ]
  },
  {
   "cell_type": "code",
   "execution_count": 12,
   "metadata": {},
   "outputs": [
    {
     "data": {
      "image/png": "[encoded data removed]",
      "text/plain": [
       "<Figure size 432x288 with 1 Axes>"
      ]
     },
     "metadata": {
      "needs_background": "light"
     },
     "output_type": "display_data"
    }
   ],
   "source": [
    "fig, ax = plt.subplots()\n",
    "_ = plt.scatter(x=df['HOMA'], y=df['Insulin'], edgecolors=\"#000000\", linewidths=0.5)\n",
    "_ = ax.set(xlabel=\"HOMA\", ylabel=\"Insulin\")"
   ]
  },
  {
   "cell_type": "code",
   "execution_count": 13,
   "metadata": {},
   "outputs": [
    {
     "data": {
      "image/png": "[encoded data removed]",
      "text/plain": [
       "<Figure size 432x288 with 1 Axes>"
      ]
     },
     "metadata": {
      "needs_background": "light"
     },
     "output_type": "display_data"
    }
   ],
   "source": [
    "fig, ax = plt.subplots()\n",
    "_ = plt.scatter(x=df['Leptin'], y=df['BMI'], edgecolors=\"#000000\", linewidths=0.5)\n",
    "_ = ax.set(xlabel=\"Leptin\", ylabel=\"BMI\")"
   ]
  },
  {
   "cell_type": "markdown",
   "metadata": {},
   "source": [
    "### Box plots"
   ]
  },
  {
   "cell_type": "code",
   "execution_count": 14,
   "metadata": {},
   "outputs": [
    {
     "data": {
      "image/png": "[encoded data removed]",
      "text/plain": [
       "<Figure size 1080x504 with 9 Axes>"
      ]
     },
     "metadata": {
      "needs_background": "light"
     },
     "output_type": "display_data"
    }
   ],
   "source": [
    "featuresNum = ['Age', 'BMI', 'Glucose', 'Insulin', 'HOMA', 'Leptin', 'Adiponectin', 'Resistin', 'MCP.1']\n",
    "plt.figure(figsize=(15, 7))\n",
    "for i in range(0, len(featuresNum)):\n",
    "    plt.subplot(1, len(featuresNum), i+1)\n",
    "    sns.boxplot(y=df[featuresNum[i]], color='green', orient='v')\n",
    "    plt.tight_layout()"
   ]
  },
  {
   "cell_type": "markdown",
   "metadata": {},
   "source": [
    "### How many patients have breast cancer and not?"
   ]
  },
  {
   "cell_type": "code",
   "execution_count": 15,
   "metadata": {},
   "outputs": [
    {
     "name": "stderr",
     "output_type": "stream",
     "text": [
      "No handles with labels found to put in legend.\n"
     ]
    },
    {
     "data": {
      "text/plain": [
       "<matplotlib.legend.Legend at 0x7fc7e3b2fe80>"
      ]
     },
     "execution_count": 15,
     "metadata": {},
     "output_type": "execute_result"
    },
    {
     "data": {
      "image/png": "[encoded data removed]",
      "text/plain": [
       "<Figure size 720x360 with 1 Axes>"
      ]
     },
     "metadata": {
      "needs_background": "light"
     },
     "output_type": "display_data"
    }
   ],
   "source": [
    "fig, ax = plt.subplots(figsize=(10,5))\n",
    "\n",
    "_ = sns.countplot(x=\"Classification\", data=df, palette=\"nipy_spectral\",\n",
    "              order=df.Classification.value_counts().index)\n",
    "\n",
    "_ = ax.set_xticklabels(ax.get_xticklabels(), rotation=90)\n",
    "_ = ax.set(xlabel=\"Classification\", ylabel=\"No. of patients\")\n",
    "plt.legend(bbox_to_anchor=(0.945, 0.90))"
   ]
  },
  {
   "cell_type": "code",
   "execution_count": 16,
   "metadata": {},
   "outputs": [
    {
     "data": {
      "text/plain": [
       "64"
      ]
     },
     "execution_count": 16,
     "metadata": {},
     "output_type": "execute_result"
    }
   ],
   "source": [
    "#How many Startup have both 'acquired' status and is_top500?\n",
    "len(df[(df[\"Classification\"] == True)].index)"
   ]
  },
  {
   "cell_type": "code",
   "execution_count": 17,
   "metadata": {},
   "outputs": [
    {
     "data": {
      "text/plain": [
       "52"
      ]
     },
     "execution_count": 17,
     "metadata": {},
     "output_type": "execute_result"
    }
   ],
   "source": [
    "#How many Startup have both 'acquired' status and is_top500?\n",
    "len(df[(df[\"Classification\"] == False)].index)"
   ]
  },
  {
   "cell_type": "markdown",
   "metadata": {},
   "source": [
    "### Which Age related to Patients or Healty Control Health?"
   ]
  },
  {
   "cell_type": "code",
   "execution_count": 18,
   "metadata": {},
   "outputs": [
    {
     "data": {
      "text/plain": [
       "<matplotlib.legend.Legend at 0x7fc7e3b3e550>"
      ]
     },
     "execution_count": 18,
     "metadata": {},
     "output_type": "execute_result"
    },
    {
     "data": {
      "image/png": "[encoded data removed]",
      "text/plain": [
       "<Figure size 1224x720 with 1 Axes>"
      ]
     },
     "metadata": {
      "needs_background": "light"
     },
     "output_type": "display_data"
    }
   ],
   "source": [
    "fig, ax = plt.subplots(figsize=(17,10))\n",
    "\n",
    "sns.countplot(x=\"Age\", hue=\"Classification\", data=df, palette=\"nipy_spectral\",\n",
    "              order=df.Age.value_counts().index)\n",
    "plt.legend(bbox_to_anchor=(0.945, 0.90))"
   ]
  },
  {
   "cell_type": "markdown",
   "metadata": {},
   "source": [
    "# Data Preprocessing"
   ]
  },
  {
   "cell_type": "markdown",
   "metadata": {},
   "source": [
    "## Duplicate Values"
   ]
  },
  {
   "cell_type": "code",
   "execution_count": 19,
   "metadata": {},
   "outputs": [
    {
     "name": "stdout",
     "output_type": "stream",
     "text": [
      "Duplicate Rows :\n"
     ]
    }
   ],
   "source": [
    "#check\n",
    "duplicate = df[df.duplicated()] \n",
    "  \n",
    "print(\"Duplicate Rows :\")"
   ]
  },
  {
   "cell_type": "markdown",
   "metadata": {},
   "source": [
    "## Negative value"
   ]
  },
  {
   "cell_type": "code",
   "execution_count": 20,
   "metadata": {},
   "outputs": [
    {
     "name": "stdout",
     "output_type": "stream",
     "text": [
      "Is there any negative value in 'Age' column  : False \n",
      "Is there any negative value in 'BMI' column  : False \n",
      "Is there any negative value in 'Glucose' column  : False \n",
      "Is there any negative value in 'Insulin' column  : False \n",
      "Is there any negative value in 'HOMA' column  : False \n",
      "Is there any negative value in 'Leptin' column  : False \n",
      "Is there any negative value in 'Adiponectin' column  : False \n",
      "Is there any negative value in 'Resistin' column  : False \n",
      "Is there any negative value in 'MCP.1' column  : False \n"
     ]
    }
   ],
   "source": [
    "age=['Age', 'BMI', 'Glucose', 'Insulin', 'HOMA', 'Leptin', 'Adiponectin', 'Resistin', 'MCP.1']\n",
    "\n",
    "for a in range(len(age)):\n",
    "    print(\"Is there any negative value in '{}' column  : {} \".format(age[a],(df[age[a]]<0).any()))"
   ]
  },
  {
   "cell_type": "markdown",
   "metadata": {},
   "source": [
    "## Outliers"
   ]
  },
  {
   "cell_type": "code",
   "execution_count": 21,
   "metadata": {},
   "outputs": [
    {
     "data": {
      "image/png": "[encoded data removed]",
      "text/plain": [
       "<Figure size 1080x504 with 9 Axes>"
      ]
     },
     "metadata": {
      "needs_background": "light"
     },
     "output_type": "display_data"
    }
   ],
   "source": [
    "featuresNum = ['Age', 'BMI', 'Glucose', 'Insulin', 'HOMA', 'Leptin', 'Adiponectin', 'Resistin', 'MCP.1']\n",
    "plt.figure(figsize=(15, 7))\n",
    "for i in range(0, len(featuresNum)):\n",
    "    plt.subplot(1, len(featuresNum), i+1)\n",
    "    sns.boxplot(y=df[featuresNum[i]], color='green', orient='v')\n",
    "    plt.tight_layout()"
   ]
  },
  {
   "cell_type": "markdown",
   "metadata": {},
   "source": [
    "## Log-transformation variable"
   ]
  },
  {
   "cell_type": "code",
   "execution_count": 22,
   "metadata": {},
   "outputs": [],
   "source": [
    "df[\"Glucose\"] = np.log(df[\"Glucose\"])\n",
    "df[\"Insulin\"] = np.log(df[\"Insulin\"])\n",
    "df[\"HOMA\"] = np.log(df[\"HOMA\"])\n",
    "df[\"Leptin\"] = np.log(df[\"Leptin\"])\n",
    "df[\"Adiponectin\"] = np.log(df[\"Adiponectin\"])\n",
    "df[\"Resistin\"] = np.log(df[\"Resistin\"])\n",
    "df[\"MCP.1\"] = np.log(df[\"MCP.1\"])"
   ]
  },
  {
   "cell_type": "code",
   "execution_count": 23,
   "metadata": {},
   "outputs": [
    {
     "data": {
      "image/png": "[encoded data removed]",
      "text/plain": [
       "<Figure size 1080x504 with 9 Axes>"
      ]
     },
     "metadata": {
      "needs_background": "light"
     },
     "output_type": "display_data"
    }
   ],
   "source": [
    "featuresNum = ['Age', 'BMI', 'Glucose', 'Insulin', 'HOMA', 'Leptin', 'Adiponectin', 'Resistin', 'MCP.1']\n",
    "plt.figure(figsize=(15, 7))\n",
    "for i in range(0, len(featuresNum)):\n",
    "    plt.subplot(1, len(featuresNum), i+1)\n",
    "    sns.boxplot(y=df[featuresNum[i]], color='green', orient='v')\n",
    "    plt.tight_layout()"
   ]
  },
  {
   "cell_type": "markdown",
   "metadata": {},
   "source": [
    "## Drop unused column for modelling"
   ]
  },
  {
   "cell_type": "code",
   "execution_count": 24,
   "metadata": {},
   "outputs": [],
   "source": [
    "df = df.drop(['Insulin'],axis=1)\n",
    "df = df.drop(['MCP.1'],axis=1)\n",
    "df = df.drop(['Adiponectin'],axis=1)\n",
    "df = df.drop(['Leptin'],axis=1)\n",
    "df = df.drop(['HOMA'],axis=1)"
   ]
  },
  {
   "cell_type": "markdown",
   "metadata": {},
   "source": [
    "# Modeling"
   ]
  },
  {
   "cell_type": "code",
   "execution_count": 25,
   "metadata": {},
   "outputs": [],
   "source": [
    "from sklearn.model_selection import train_test_split\n",
    "# Split the data\n",
    "# Input/independent variables\n",
    "X = df.drop('Classification', axis = 1) # her we are droping the output feature as this is the target and 'X' is input features, the changes are not \n",
    "                                              # made inplace as we have not used 'inplace = True'\n",
    "\n",
    "y = df['Classification'] # Output/Dependent variable\n",
    "# train_x, test_x,train_y,test_y = train_test_split(X,y)"
   ]
  },
  {
   "cell_type": "code",
   "execution_count": 26,
   "metadata": {},
   "outputs": [
    {
     "data": {
      "text/plain": [
       "array([[-0.57979363, -0.81667527, -1.62590777, -0.51712256],\n",
       "       [ 1.60182096, -1.37875056, -0.20956195, -1.49723393],\n",
       "       [ 1.53948912, -0.89176446, -0.26620198, -0.30186252],\n",
       "       [ 0.66684328, -1.24330321, -1.13196168,  0.16047266],\n",
       "       [ 1.7888165 , -1.29460116, -0.20956195, -0.11204255],\n",
       "       [-0.51746179, -0.94582375, -0.20956195, -0.14791524],\n",
       "       [ 1.97581204, -0.97672487, -1.13196168,  0.17964274],\n",
       "       [ 1.16549804, -0.75665667,  1.08034465, -1.16719499],\n",
       "       [ 0.97850251, -1.11676827,  0.064709  , -0.86593206],\n",
       "       [ 1.1031662 , -0.91670627, -0.74309097, -0.69099407],\n",
       "       [-1.45243947, -1.22280113, -1.06508963, -0.72640868],\n",
       "       [-1.7640987 , -0.91470565, -0.80591006, -1.32413723],\n",
       "       [-2.01342608, -0.94471495, -0.80591006, -1.15707247],\n",
       "       [-2.07575793, -1.78297474, -0.43993371, -0.74113349],\n",
       "       [-1.20311209, -0.84868519, -1.26835143, -0.29053415],\n",
       "       [-0.82912101, -1.36484515, -0.55907715, -0.58305549],\n",
       "       [-0.64212548, -1.11076641, -0.68102422, -1.79009777],\n",
       "       [ 0.23052036,  0.89164604, -0.61969201,  0.26103533],\n",
       "       [ 0.4175159 ,  1.38995316, -0.04326389, -0.77279367],\n",
       "       [-1.57710316,  1.78665904, -0.49916306,  0.5839831 ],\n",
       "       [-1.32777578,  0.19897467, -0.55907715, -0.32123232],\n",
       "       [-1.45243947,  0.87885318, -0.49916306, -1.02624749],\n",
       "       [-1.7640987 ,  0.9380261 , -0.68102422,  1.11068079],\n",
       "       [-1.39010762,  0.53910824, -0.68102422,  0.52652945],\n",
       "       [-0.20580256,  0.58038932, -0.32346788, -0.16551318],\n",
       "       [-0.76678917,  1.89128561, -0.74309097, -0.39414179],\n",
       "       [-0.45512994,  2.20001136,  0.52454347,  0.04453384],\n",
       "       [ 0.54217959,  0.77312562, -0.32346788,  1.03693686],\n",
       "       [-1.39010762,  1.53420553, -0.32346788,  0.95114378],\n",
       "       [-1.32777578,  1.3189646 , -0.93387981,  0.46210165],\n",
       "       [ 0.54217959,  1.7265687 ,  0.27413189,  0.96963781],\n",
       "       [-0.2681344 ,  1.842182  ,  0.27413189, -0.15558707],\n",
       "       [-1.82643054,  1.65525376, -0.49916306,  0.91161276],\n",
       "       [-0.89145286,  1.36843666, -0.38137364, -0.77098388],\n",
       "       [-0.3927981 ,  0.02134007, -1.13196168, -0.13985522],\n",
       "       [ 0.60451143,  0.40505682, -0.99906949, -1.44699515],\n",
       "       [ 0.54217959,  0.73152251, -0.80591006, -1.80247394],\n",
       "       [ 0.72917512,  1.50258382,  0.27413189,  2.85593877],\n",
       "       [ 0.16818851, -0.24664019,  0.37575302,  0.82891405],\n",
       "       [ 1.22782989,  1.60166006, -1.19970789,  0.59740824],\n",
       "       [ 1.16549804,  0.32736081, -0.74309097, -0.50847238],\n",
       "       [ 1.16549804, -0.07644586, -0.0981058 , -0.44302219],\n",
       "       [ 1.1031662 , -0.05643966, -0.61969201, -0.59510495],\n",
       "       [ 0.72917512,  0.98388276, -0.15353425,  0.04503519],\n",
       "       [ 0.85383882,  0.54374635,  0.32519153, -1.41587089],\n",
       "       [ 0.54217959,  0.02358514, -0.32346788, -0.77207639],\n",
       "       [ 1.1031662 , -0.37653886, -0.0981058 , -1.35067236],\n",
       "       [ 1.29016173, -0.45656366, -2.42479542, -1.29787769],\n",
       "       [ 0.72917512,  0.36369055, -0.38137364, -1.34003506],\n",
       "       [ 1.72648465, -0.19648306,  0.01100374, -0.25028359],\n",
       "       [ 1.16549804, -0.09645206,  0.71651028, -0.42960097],\n",
       "       [ 1.22782989, -0.33652646, -0.61969201,  0.04331904],\n",
       "       [-0.76678917, -1.25602171,  0.32519153,  1.01523099],\n",
       "       [-0.76678917, -1.35084178, -1.33791638,  1.2996475 ],\n",
       "       [-0.51746179, -1.32551146, -0.0981058 ,  1.02047912],\n",
       "       [-1.45243947, -0.66814439, -0.20956195,  0.07871954],\n",
       "       [-0.95378471, -1.24482505, -0.15353425,  0.60699582],\n",
       "       [ 0.66684328, -1.30026248,  0.32519153,  0.26721576],\n",
       "       [-0.3927981 , -1.69041544, -0.15353425, -1.04057197],\n",
       "       [ 0.29285221, -0.98547758, -0.20956195, -0.09582061],\n",
       "       [-1.20311209, -1.01680987, -0.04326389,  0.46340822],\n",
       "       [ 0.72917512, -1.21402671,  0.80989139,  0.45997122],\n",
       "       [-0.51746179, -1.24330321, -1.06508963,  1.00946391],\n",
       "       [-0.3927981 , -0.93814892,  0.37575302,  0.01611692],\n",
       "       [ 0.10585667, -0.95014076,  0.11786343, -0.47974413],\n",
       "       [-0.76678917, -0.88859838,  0.99175255, -1.12274086],\n",
       "       [-0.20580256, -0.6728807 , -0.55907715, -0.14413721],\n",
       "       [ 0.4175159 , -1.07231005,  0.11786343,  0.28502273],\n",
       "       [-0.70445732, -1.35084081, -0.43993371,  0.24786015],\n",
       "       [-0.82912101, -1.60491956,  0.90161965, -1.31154343],\n",
       "       [-0.76678917, -1.46487616, -0.20956195, -0.5456302 ],\n",
       "       [-0.82912101, -0.56859838,  0.52454347, -1.10994732],\n",
       "       [-0.3927981 , -1.84299334,  0.47541977, -1.83889582],\n",
       "       [ 0.91617066, -0.79266783,  0.47541977, -1.25016654],\n",
       "       [-0.70445732, -1.07475525, -0.55907715, -1.01239219],\n",
       "       [-0.89145286, -0.20398538,  0.27413189,  0.4965222 ],\n",
       "       [-0.14347071,  0.87885318, -0.20956195, -0.67599148],\n",
       "       [-0.89145286,  0.73380525,  0.37575302,  1.76493509],\n",
       "       [ 1.7888165 , -0.18314559,  3.84065533,  1.09688796],\n",
       "       [-1.01611655, -0.18192589,  0.064709  ,  1.28928795],\n",
       "       [ 0.10585667,  0.21817067, -1.13196168,  1.47728802],\n",
       "       [ 1.47715727,  0.81190309,  0.22256419,  1.37641661],\n",
       "       [-0.57979363,  0.97626267,  0.17047821, -0.17059882],\n",
       "       [ 0.85383882, -0.41450981,  0.80989139,  1.91065824],\n",
       "       [-0.95378471,  0.34305915,  0.11786343,  2.24034515],\n",
       "       [ 0.47984774,  0.41701668, -0.61969201,  0.7712725 ],\n",
       "       [-0.57979363,  0.1086115 , -0.32346788,  0.49745024],\n",
       "       [ 1.72648465,  0.02134007,  3.71010658,  2.28140995],\n",
       "       [-0.57979363,  0.73380525,  3.78882978,  2.23924108],\n",
       "       [ 0.04352482,  0.31457912,  1.92918461,  0.29141488],\n",
       "       [-1.0784484 ,  0.65108572,  1.50191935,  0.621829  ],\n",
       "       [ 1.53948912,  0.72729959,  0.22256419,  0.80682002],\n",
       "       [-0.33046625,  0.64402717, -0.49916306,  1.08948867],\n",
       "       [-0.51746179,  0.97626267,  1.73932779, -0.99012613],\n",
       "       [ 0.16818851,  0.73008608,  1.6219829 ,  0.00922321],\n",
       "       [-0.51746179,  0.43926953, -1.62590777,  0.86524584],\n",
       "       [-0.82912101,  0.06112019,  0.17047821,  1.01516686],\n",
       "       [-1.0784484 ,  0.01079206,  0.37575302,  1.1914062 ],\n",
       "       [ 0.85383882,  0.06670227,  0.42582598,  2.11558732],\n",
       "       [ 0.72917512,  0.17252019,  0.62141566,  0.53075435],\n",
       "       [ 1.04083435,  0.2136716 , -0.43993371,  0.68642482],\n",
       "       [ 0.54217959, -0.20398538, -0.38137364,  0.38620838],\n",
       "       [ 0.47984774,  0.66689986,  0.064709  ,  0.84420714],\n",
       "       [ 0.91617066,  0.31093747, -0.74309097,  0.37161664],\n",
       "       [-0.01880702,  1.45165728, -0.04326389, -0.19984556],\n",
       "       [ 0.97850251,  1.90604355,  1.73932779, -0.73220711],\n",
       "       [-0.76678917,  0.36064094, -0.32346788,  0.44676403],\n",
       "       [-0.70445732,  1.11992492, -0.20956195, -0.36359875],\n",
       "       [ 0.66684328,  1.59607248,  1.6219829 , -1.45303145],\n",
       "       [ 1.1031662 ,  0.57975751,  2.39253526,  0.03789662],\n",
       "       [-0.20580256,  1.69410287,  1.12407918, -1.17979102],\n",
       "       [-0.76678917, -0.14646756, -0.20956195, -0.06043765],\n",
       "       [ 0.29285221, -0.14846818,  0.22256419, -0.64502335],\n",
       "       [ 0.47984774,  0.89385486,  0.064709  , -0.1461757 ],\n",
       "       [ 0.91617066, -0.39854568, -0.80591006, -1.81207509],\n",
       "       [ 1.7888165 , -0.0804471 ,  1.89176559, -1.39875707]])"
      ]
     },
     "execution_count": 26,
     "metadata": {},
     "output_type": "execute_result"
    }
   ],
   "source": [
    "# Scaling the data\n",
    "from sklearn.preprocessing import StandardScaler\n",
    "sc = StandardScaler()\n",
    "X =  sc.fit_transform(X)\n",
    "X"
   ]
  },
  {
   "cell_type": "code",
   "execution_count": 27,
   "metadata": {},
   "outputs": [
    {
     "name": "stdout",
     "output_type": "stream",
     "text": [
      "Shape of the X Train : (92, 4)\n",
      "Shape of the y Train : (92,)\n",
      "Shape of the X test : (24, 4)\n",
      "Shape of the y test : (24,)\n"
     ]
    }
   ],
   "source": [
    "from sklearn.model_selection import train_test_split\n",
    "X_train, X_test, y_train, y_test = train_test_split(X, y, test_size = 0.2, random_state = 42)\n",
    "\n",
    "# lets print the shapes again \n",
    "print(\"Shape of the X Train :\", X_train.shape)\n",
    "print(\"Shape of the y Train :\", y_train.shape)\n",
    "print(\"Shape of the X test :\", X_test.shape)\n",
    "print(\"Shape of the y test :\", y_test.shape)"
   ]
  },
  {
   "cell_type": "code",
   "execution_count": 28,
   "metadata": {},
   "outputs": [],
   "source": [
    "# Model Build\n",
    "from sklearn.metrics import confusion_matrix, classification_report,accuracy_score,roc_curve, auc, precision_recall_curve, f1_score\n",
    "import warnings\n",
    "warnings.filterwarnings('ignore')"
   ]
  },
  {
   "cell_type": "markdown",
   "metadata": {},
   "source": [
    "## Random Forest"
   ]
  },
  {
   "cell_type": "code",
   "execution_count": 29,
   "metadata": {},
   "outputs": [
    {
     "name": "stdout",
     "output_type": "stream",
     "text": [
      "Training Accuracy : 1.0\n",
      "Testing Accuracy : 0.9583333333333334\n"
     ]
    },
    {
     "data": {
      "image/png": "[encoded data removed]",
      "text/plain": [
       "<Figure size 216x216 with 2 Axes>"
      ]
     },
     "metadata": {
      "needs_background": "light"
     },
     "output_type": "display_data"
    },
    {
     "name": "stdout",
     "output_type": "stream",
     "text": [
      "              precision    recall  f1-score   support\n",
      "\n",
      "           0       1.00      0.92      0.96        12\n",
      "           1       0.92      1.00      0.96        12\n",
      "\n",
      "    accuracy                           0.96        24\n",
      "   macro avg       0.96      0.96      0.96        24\n",
      "weighted avg       0.96      0.96      0.96        24\n",
      "\n",
      "------------------------------------------\n",
      "ROC Curves  :  0.9583333333333333\n",
      "Sensitivity :  0.9166666666666666\n",
      "Specificity :  1.0\n"
     ]
    }
   ],
   "source": [
    "from sklearn.ensemble import RandomForestClassifier\n",
    "rf = RandomForestClassifier()\n",
    "\n",
    "rf.fit(X_train,y_train)\n",
    "\n",
    "\n",
    "y_pred_rf = rf.predict(X_test)\n",
    "\n",
    "print(\"Training Accuracy :\", rf.score(X_train, y_train))\n",
    "print(\"Testing Accuracy :\", rf.score(X_test, y_test))\n",
    "\n",
    "cm = confusion_matrix(y_test, y_pred_rf)\n",
    "plt.rcParams['figure.figsize'] = (3, 3)\n",
    "sns.heatmap(cm, annot = True, cmap = 'YlGnBu', fmt = '.8g')\n",
    "plt.show()\n",
    "\n",
    "cr = classification_report(y_test, y_pred_rf)\n",
    "print(cr)\n",
    "\n",
    "\n",
    "print(\"------------------------------------------\")\n",
    "\n",
    "false_positive_rate, true_positive_rate, thresholds = roc_curve(y_test,y_pred_rf)\n",
    "roc_auc = auc(false_positive_rate, true_positive_rate)\n",
    "print(\"ROC Curves  : \",roc_auc)\n",
    "\n",
    "sensitivity1 = cm[0,0]/(cm[0,0]+cm[0,1])\n",
    "print('Sensitivity : ', sensitivity1)\n",
    "\n",
    "specificity1 = cm[1,1]/(cm[1,0]+cm[1,1])\n",
    "print('Specificity : ', specificity1)"
   ]
  },
  {
   "cell_type": "markdown",
   "metadata": {},
   "source": [
    "## LGBM"
   ]
  },
  {
   "cell_type": "code",
   "execution_count": 30,
   "metadata": {},
   "outputs": [
    {
     "name": "stdout",
     "output_type": "stream",
     "text": [
      "Training Accuracy : 0.9347826086956522\n",
      "Testing Accuracy : 0.875\n"
     ]
    },
    {
     "data": {
      "image/png": "[encoded data removed]",
      "text/plain": [
       "<Figure size 216x216 with 2 Axes>"
      ]
     },
     "metadata": {
      "needs_background": "light"
     },
     "output_type": "display_data"
    },
    {
     "name": "stdout",
     "output_type": "stream",
     "text": [
      "              precision    recall  f1-score   support\n",
      "\n",
      "           0       0.91      0.83      0.87        12\n",
      "           1       0.85      0.92      0.88        12\n",
      "\n",
      "    accuracy                           0.88        24\n",
      "   macro avg       0.88      0.88      0.87        24\n",
      "weighted avg       0.88      0.88      0.87        24\n",
      "\n",
      "------------------------------------------\n",
      "ROC Curves  :  0.8749999999999999\n",
      "Sensitivity :  0.8333333333333334\n",
      "Specificity :  0.9166666666666666\n"
     ]
    }
   ],
   "source": [
    "from lightgbm import LGBMClassifier\n",
    "clf = LGBMClassifier()\n",
    "\n",
    "clf.fit(X_train,y_train)\n",
    "\n",
    "y_pred_lgb = clf.predict(X_test)\n",
    "\n",
    "print(\"Training Accuracy :\", clf.score(X_train, y_train))\n",
    "print(\"Testing Accuracy :\", clf.score(X_test, y_test))\n",
    "\n",
    "cm = confusion_matrix(y_test, y_pred_lgb)\n",
    "plt.rcParams['figure.figsize'] = (3, 3)\n",
    "sns.heatmap(cm, annot = True, cmap = 'YlGnBu', fmt = '.8g')\n",
    "plt.show()\n",
    "\n",
    "cr = classification_report(y_test, y_pred_lgb)\n",
    "print(cr)\n",
    "\n",
    "print(\"------------------------------------------\")\n",
    "\n",
    "false_positive_rate, true_positive_rate, thresholds = roc_curve(y_test,y_pred_lgb)\n",
    "roc_auc = auc(false_positive_rate, true_positive_rate)\n",
    "print(\"ROC Curves  : \",roc_auc)\n",
    "\n",
    "sensitivity1 = cm[0,0]/(cm[0,0]+cm[0,1])\n",
    "print('Sensitivity : ', sensitivity1)\n",
    "\n",
    "specificity1 = cm[1,1]/(cm[1,0]+cm[1,1])\n",
    "print('Specificity : ', specificity1)"
   ]
  },
  {
   "cell_type": "markdown",
   "metadata": {},
   "source": [
    "## XGBoost"
   ]
  },
  {
   "cell_type": "code",
   "execution_count": 31,
   "metadata": {},
   "outputs": [
    {
     "name": "stdout",
     "output_type": "stream",
     "text": [
      "Training Accuracy : 1.0\n",
      "Testing Accuracy : 0.875\n"
     ]
    },
    {
     "data": {
      "image/png": "[encoded data removed]",
      "text/plain": [
       "<Figure size 216x216 with 2 Axes>"
      ]
     },
     "metadata": {
      "needs_background": "light"
     },
     "output_type": "display_data"
    },
    {
     "name": "stdout",
     "output_type": "stream",
     "text": [
      "              precision    recall  f1-score   support\n",
      "\n",
      "           0       0.91      0.83      0.87        12\n",
      "           1       0.85      0.92      0.88        12\n",
      "\n",
      "    accuracy                           0.88        24\n",
      "   macro avg       0.88      0.88      0.87        24\n",
      "weighted avg       0.88      0.88      0.87        24\n",
      "\n",
      "------------------------------------------\n",
      "ROC Curves  :  0.8749999999999999\n",
      "Sensitivity :  0.8333333333333334\n",
      "Specificity :  0.9166666666666666\n"
     ]
    }
   ],
   "source": [
    "from xgboost import XGBClassifier\n",
    "\n",
    "#train\n",
    "xgb = XGBClassifier()\n",
    "\n",
    "xgb.fit(X_train,y_train)\n",
    "\n",
    "#predict\n",
    "y_predicted_xgb = xgb.predict(X_test)\n",
    "\n",
    "print(\"Training Accuracy :\", xgb.score(X_train, y_train))\n",
    "print(\"Testing Accuracy :\", xgb.score(X_test, y_test))\n",
    "\n",
    "#eval\n",
    "cm = confusion_matrix(y_test, y_predicted_xgb)\n",
    "plt.rcParams['figure.figsize'] = (3, 3)\n",
    "sns.heatmap(cm, annot = True, cmap = 'YlGnBu', fmt = '.8g')\n",
    "plt.show()\n",
    "\n",
    "cr = classification_report(y_test, y_predicted_xgb)\n",
    "print(cr)\n",
    "\n",
    "print(\"------------------------------------------\")\n",
    "\n",
    "false_positive_rate, true_positive_rate, thresholds = roc_curve(y_test,y_predicted_xgb)\n",
    "roc_auc = auc(false_positive_rate, true_positive_rate)\n",
    "print(\"ROC Curves  : \",roc_auc)\n",
    "\n",
    "sensitivity1 = cm[0,0]/(cm[0,0]+cm[0,1])\n",
    "print('Sensitivity : ', sensitivity1)\n",
    "\n",
    "specificity1 = cm[1,1]/(cm[1,0]+cm[1,1])\n",
    "print('Specificity : ', specificity1)"
   ]
  },
  {
   "cell_type": "markdown",
   "metadata": {},
   "source": [
    "## SVM"
   ]
  },
  {
   "cell_type": "code",
   "execution_count": 32,
   "metadata": {},
   "outputs": [
    {
     "name": "stdout",
     "output_type": "stream",
     "text": [
      "Training Accuracy : 1.0\n",
      "Testing Accuracy : 0.875\n"
     ]
    },
    {
     "data": {
      "image/png": "[encoded data removed]",
      "text/plain": [
       "<Figure size 216x216 with 2 Axes>"
      ]
     },
     "metadata": {
      "needs_background": "light"
     },
     "output_type": "display_data"
    },
    {
     "name": "stdout",
     "output_type": "stream",
     "text": [
      "              precision    recall  f1-score   support\n",
      "\n",
      "           0       1.00      0.75      0.86        12\n",
      "           1       0.80      1.00      0.89        12\n",
      "\n",
      "    accuracy                           0.88        24\n",
      "   macro avg       0.90      0.88      0.87        24\n",
      "weighted avg       0.90      0.88      0.87        24\n",
      "\n",
      "------------------------------------------\n",
      "ROC Curves  :  0.875\n",
      "Sensitivity :  0.75\n",
      "Specificity :  1.0\n"
     ]
    }
   ],
   "source": [
    "from sklearn.ensemble import GradientBoostingClassifier\n",
    "#train\n",
    "gbc = GradientBoostingClassifier(learning_rate=0.02,\n",
    "                    max_depth=4,\n",
    "                    random_state=100, n_estimators=1000)\n",
    "\n",
    "\n",
    "gbc.fit(X_train,y_train)\n",
    "\n",
    "#predict\n",
    "y_predicted_gb = gbc.predict(X_test)\n",
    "\n",
    "print(\"Training Accuracy :\", gbc.score(X_train, y_train))\n",
    "print(\"Testing Accuracy :\", gbc.score(X_test, y_test))\n",
    "\n",
    "#eval\n",
    "cm = confusion_matrix(y_test, y_predicted_gb)\n",
    "plt.rcParams['figure.figsize'] = (3, 3)\n",
    "sns.heatmap(cm, annot = True, cmap = 'YlGnBu', fmt = '.8g')\n",
    "plt.show()\n",
    "\n",
    "cr = classification_report(y_test, y_predicted_gb)\n",
    "print(cr)\n",
    "\n",
    "\n",
    "print(\"------------------------------------------\")\n",
    "\n",
    "false_positive_rate, true_positive_rate, thresholds = roc_curve(y_test,y_predicted_gb)\n",
    "roc_auc = auc(false_positive_rate, true_positive_rate)\n",
    "print(\"ROC Curves  : \",roc_auc)\n",
    "\n",
    "sensitivity1 = cm[0,0]/(cm[0,0]+cm[0,1])\n",
    "print('Sensitivity : ', sensitivity1)\n",
    "\n",
    "specificity1 = cm[1,1]/(cm[1,0]+cm[1,1])\n",
    "print('Specificity : ', specificity1)"
   ]
  }
 ],
 "metadata": {
  "kernelspec": {
   "display_name": "Python 3",
   "language": "python",
   "name": "python3"
  },
  "language_info": {
   "codemirror_mode": {
    "name": "ipython",
    "version": 3
   },
   "file_extension": ".py",
   "mimetype": "text/x-python",
   "name": "python",
   "nbconvert_exporter": "python",
   "pygments_lexer": "ipython3",
   "version": "3.8.5"
  },
  "toc": {
   "base_numbering": 1,
   "nav_menu": {},
   "number_sections": true,
   "sideBar": true,
   "skip_h1_title": false,
   "title_cell": "Table of Contents",
   "title_sidebar": "Contents",
   "toc_cell": false,
   "toc_position": {
    "height": "calc(100% - 180px)",
    "left": "10px",
    "top": "150px",
    "width": "360px"
   },
   "toc_section_display": true,
   "toc_window_display": true
  }
 },
 "nbformat": 4,
 "nbformat_minor": 4
}
